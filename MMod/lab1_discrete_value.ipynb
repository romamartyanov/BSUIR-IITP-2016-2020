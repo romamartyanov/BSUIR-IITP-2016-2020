{
 "cells": [
  {
   "cell_type": "code",
   "execution_count": 166,
   "metadata": {},
   "outputs": [],
   "source": [
    "from statlib.rand.basic_rand import BasicRand, Discrete\n",
    "from statlib.rand.engine import LCG\n",
    "from matplotlib import pyplot as plt\n",
    "import math\n",
    "import numpy as np\n",
    "from scipy.stats import chi2\n",
    "\n",
    "plt.style.use('ggplot')"
   ]
  },
  {
   "cell_type": "code",
   "execution_count": 167,
   "metadata": {},
   "outputs": [],
   "source": [
    "def expectation(z):\n",
    "    return sum(z) / len(z)\n",
    "\n",
    "def dispersion(z):\n",
    "    mx = expectation(z)\n",
    "    return sum((z - mx) ** 2) / (len(z) - 1)\n",
    "\n",
    "def build_sample(n, gen):\n",
    "    res = []\n",
    "    for i in range(n):\n",
    "        res.append(gen.next())\n",
    "\n",
    "    return np.array(sorted(res))\n",
    "\n",
    "def get_bins_count(n):\n",
    "    if n <= 100: return int(np.sqrt(n))\n",
    "    return 4 * int(np.log(n))"
   ]
  },
  {
   "cell_type": "code",
   "execution_count": 168,
   "metadata": {},
   "outputs": [],
   "source": [
    "_lambda = 2\n",
    "n = 10000\n",
    "segments = get_bins_count(n)"
   ]
  },
  {
   "cell_type": "code",
   "execution_count": 169,
   "metadata": {},
   "outputs": [],
   "source": [
    "def poisson(_lambda, k):\n",
    "    res = []\n",
    "    for i in range(k):\n",
    "        res.append((i, math.exp(-_lambda) * _lambda**i / math.factorial(i)))\n",
    "    return res"
   ]
  },
  {
   "cell_type": "code",
   "execution_count": 170,
   "metadata": {},
   "outputs": [],
   "source": [
    "possibilities = poisson(_lambda, 10)\n",
    "\n",
    "gen = BasicRand(LCG())\n",
    "disc_gen = Discrete(possibilities, gen)"
   ]
  },
  {
   "cell_type": "code",
   "execution_count": 171,
   "metadata": {},
   "outputs": [],
   "source": [
    "x_var = build_sample(n, disc_gen)"
   ]
  },
  {
   "cell_type": "markdown",
   "metadata": {},
   "source": [
    "### Равноинтервальная гистограмма"
   ]
  },
  {
   "cell_type": "code",
   "execution_count": 172,
   "metadata": {},
   "outputs": [
    {
     "data": {
      "image/png": "[encoded data removed]",
      "text/plain": [
       "<Figure size 432x288 with 1 Axes>"
      ]
     },
     "metadata": {},
     "output_type": "display_data"
    }
   ],
   "source": [
    "vals, bins, _ = plt.hist(x_var, density=True)"
   ]
  },
  {
   "cell_type": "markdown",
   "metadata": {},
   "source": [
    "### Найдем точечное значение матожидания случайной величины"
   ]
  },
  {
   "cell_type": "code",
   "execution_count": 173,
   "metadata": {},
   "outputs": [
    {
     "name": "stdout",
     "output_type": "stream",
     "text": [
      "2.0004\n"
     ]
    }
   ],
   "source": [
    "m_p = np.sum(x_var) / n\n",
    "print(m_p)"
   ]
  },
  {
   "cell_type": "markdown",
   "metadata": {},
   "source": [
    "### Найдем точечное значение дисперсии случайной величины"
   ]
  },
  {
   "cell_type": "code",
   "execution_count": 174,
   "metadata": {},
   "outputs": [
    {
     "name": "stdout",
     "output_type": "stream",
     "text": [
      "2.0366035003500356\n"
     ]
    }
   ],
   "source": [
    "d_p = np.sum((x_var - m_p)**2) / (n - 1)\n",
    "print(d_p)"
   ]
  },
  {
   "cell_type": "markdown",
   "metadata": {},
   "source": [
    "### Довериетельный интервал для матожидания"
   ]
  },
  {
   "cell_type": "code",
   "execution_count": 175,
   "metadata": {},
   "outputs": [],
   "source": [
    "import scipy.stats\n",
    "\n",
    "laplace = [(x, scipy.stats.norm.cdf(x) - 0.5) for x in np.arange(0, 5, 0.01)]\n",
    "\n",
    "def find_x_laplace(u):\n",
    "    good_x = 0\n",
    "    min_d = 10\n",
    "    for x, y in laplace:\n",
    "        if abs(u - y) < min_d:\n",
    "            min_d = abs(u - y)\n",
    "            good_x = x\n",
    "    return good_x\n",
    "\n",
    "def get_interval(s, val, n):\n",
    "    return s * find_x_laplace(val) / np.sqrt(n)"
   ]
  },
  {
   "cell_type": "code",
   "execution_count": 176,
   "metadata": {},
   "outputs": [
    {
     "name": "stdout",
     "output_type": "stream",
     "text": [
      "Interval for E(x) with alpha = 0.05 is (1.9291879007337476, 2.0716120992662526)\n"
     ]
    }
   ],
   "source": [
    "alpha_e = 0.05\n",
    "laplace_e = (1 - alpha_e)\n",
    "\n",
    "interval_len = get_interval(np.sqrt(d_p), laplace_e, n)\n",
    "\n",
    "print('Interval for E(x) with alpha = {} is ({}, {})'.format(alpha_e, m_p - interval_len, m_p + interval_len))"
   ]
  },
  {
   "cell_type": "markdown",
   "metadata": {},
   "source": [
    "### Довериетельный интервал для дисперсии"
   ]
  },
  {
   "cell_type": "code",
   "execution_count": 177,
   "metadata": {},
   "outputs": [],
   "source": [
    "def get_dispersion_intervals(s, alpha, n):\n",
    "    l = s * (n - 1) / chi2.ppf(1 - alpha / 2, n - 1)\n",
    "    r = s * (n - 1) / chi2.ppf(alpha / 2, n - 1)\n",
    "    return l, r\n",
    "\n",
    "def get_dispersion_intervals_known(s, alpha, n):\n",
    "    l = s * n / chi2.ppf(1 - alpha / 2, n)\n",
    "    r = s * n / chi2.ppf(alpha / 2, n)\n",
    "    return l, r \n",
    "\n",
    "def get_dispersion_interval(x_var, alpha):\n",
    "    m_p = expectation(x_var)\n",
    "    d_p = dispersion(x_var)\n",
    "    \n",
    "    return get_dispersion_intervals(d_p, alpha, n)"
   ]
  },
  {
   "cell_type": "code",
   "execution_count": 178,
   "metadata": {},
   "outputs": [
    {
     "name": "stdout",
     "output_type": "stream",
     "text": [
      "2.0366035003500356\n",
      "(1.9813083101973363, 2.0942574212895773)\n"
     ]
    }
   ],
   "source": [
    "print(d_p)\n",
    "print(get_dispersion_interval(x_var, 0.05))"
   ]
  },
  {
   "cell_type": "markdown",
   "metadata": {},
   "source": [
    "### Проверим критерий согласия Пиррсона"
   ]
  },
  {
   "cell_type": "code",
   "execution_count": 181,
   "metadata": {},
   "outputs": [],
   "source": [
    "def get_F(lambda_):\n",
    "    def F(x):\n",
    "        x = int(x)\n",
    "        return math.exp(-_lambda) * _lambda**x / math.factorial(x)\n",
    "    \n",
    "    return F\n",
    "\n",
    "def pearson_chi(x_var, F, n):\n",
    "    chi = 0\n",
    "    for x, pi_s in possibilities:\n",
    "        pi = list(x_var).count(x) / n\n",
    "        chi += (pi - pi_s)**2 / pi_s\n",
    "    \n",
    "    return chi * n"
   ]
  },
  {
   "cell_type": "code",
   "execution_count": 182,
   "metadata": {},
   "outputs": [
    {
     "name": "stdout",
     "output_type": "stream",
     "text": [
      "Experimental chi square: 11.703631857626284, Table chi square: 22.465015220882684\n",
      "Good\n"
     ]
    }
   ],
   "source": [
    "chi_sqr = pearson_chi(x_var, get_F(_lambda), n)\n",
    "table_pearson = chi2.ppf(0.05, segments - 1)\n",
    "\n",
    "print('Experimental chi square: {cs}, Table chi square: {ts}'.format(cs=chi_sqr, ts=table_pearson))\n",
    "\n",
    "if chi_sqr < table_pearson:\n",
    "    print('Good')"
   ]
  },
  {
   "cell_type": "code",
   "execution_count": null,
   "metadata": {},
   "outputs": [],
   "source": []
  }
 ],
 "metadata": {
  "kernelspec": {
   "display_name": "Python 3",
   "language": "python",
   "name": "python3"
  },
  "language_info": {
   "codemirror_mode": {
    "name": "ipython",
    "version": 3
   },
   "file_extension": ".py",
   "mimetype": "text/x-python",
   "name": "python",
   "nbconvert_exporter": "python",
   "pygments_lexer": "ipython3",
   "version": "3.6.6"
  }
 },
 "nbformat": 4,
 "nbformat_minor": 2
}
